{
 "cells": [
  {
   "cell_type": "markdown",
   "metadata": {},
   "source": [
    "## Dynamic Programming"
   ]
  },
  {
   "cell_type": "markdown",
   "metadata": {},
   "source": [
    "Importing the necessary libraries."
   ]
  },
  {
   "cell_type": "code",
   "execution_count": 1,
   "metadata": {},
   "outputs": [],
   "source": [
    "import os\n",
    "import sys\n",
    "\n",
    "sys.path.append('/home/thatblueboy/ML/RL/adventure/_environments')\n",
    "sys.path.append('/home/thatblueboy/ML/RL/adventure/dynamic_programming/src')\n",
    "import frozen_lake_custom\n",
    "import DP"
   ]
  },
  {
   "cell_type": "markdown",
   "metadata": {},
   "source": [
    "Testing the environment. Rewards can be modified by making changes to the `get_reward` function from `frozen_lake_custom.py`."
   ]
  },
  {
   "cell_type": "code",
   "execution_count": 22,
   "metadata": {},
   "outputs": [
    {
     "name": "stdout",
     "output_type": "stream",
     "text": [
      "goal reward:  10\n",
      "hole reward:  -5\n",
      "step reward:  -1\n"
     ]
    }
   ],
   "source": [
    "env = frozen_lake_custom.FrozenLakeCustomEnv(desc=None,map_name='8x8', is_slippery=False, render_mode='human')\n",
    "env.print_reward()\n",
    "observation, info = env.reset()\n",
    "\n",
    "for _ in range(100):\n",
    "    action = env.action_space.sample() \n",
    "    observation, reward, terminated, truncated, info = env.step(action)\n",
    "    # print(reward)\n",
    "\n",
    "    if terminated or truncated:\n",
    "        observation, info = env.reset()\n",
    "        break\n",
    "\n",
    "env.close()"
   ]
  },
  {
   "cell_type": "markdown",
   "metadata": {},
   "source": [
    "Training a deterministic policy using policy improvement.\n",
    "\n",
    "- Pseudocode:"
   ]
  },
  {
   "cell_type": "code",
   "execution_count": 29,
   "metadata": {},
   "outputs": [],
   "source": [
    "from pprint import pprint\n",
    "\n",
    "DPAgent = DP.DPAgent(env)\n",
    "\n",
    "for i in range(7):\n",
    "        DPAgent.evaluate_policy()\n",
    "        DPAgent.improve_policy()\n",
    "        # pprint(DPAgent.stateValueTable)"
   ]
  },
  {
   "cell_type": "markdown",
   "metadata": {},
   "source": [
    "Testing the trained agent"
   ]
  },
  {
   "cell_type": "code",
   "execution_count": 30,
   "metadata": {},
   "outputs": [],
   "source": [
    "env = frozen_lake_custom.FrozenLakeCustomEnv(desc=None,map_name='8x8', is_slippery=False, render_mode='human')\n",
    "\n",
    "for episodes in range(1):\n",
    "            initialInfo = env.reset()\n",
    "            state = initialInfo[0]\n",
    "            for timestamp in range(100):\n",
    "                action = DPAgent.policy(state)\n",
    "                newState, reward, terminated, truncated, info = env.step(action)\n",
    "                env.render()\n",
    "                state = newState\n",
    "                if terminated or truncated:\n",
    "                    break\n",
    "env.close()"
   ]
  },
  {
   "cell_type": "markdown",
   "metadata": {},
   "source": [
    "In the previous implementation, the deterministic policy was initialised randomly. We can try making a uniform random policy at the begin to start of with a better state value table. Note that because the policy and MDP both are deterministic, only some of the states are evaluated for their value. Evaluating the state value functions using a uniform policy should allow faster convergence. This has been implimented in the `stochastic_start` function"
   ]
  },
  {
   "cell_type": "code",
   "execution_count": 41,
   "metadata": {},
   "outputs": [],
   "source": [
    "DPAgent.stochastic_start()\n",
    "DPAgent.improve_policy()\n",
    "\n",
    "for i in range(4):\n",
    "    DPAgent.evaluate_policy()\n",
    "    DPAgent.improve_policy()"
   ]
  },
  {
   "cell_type": "markdown",
   "metadata": {},
   "source": [
    "We have trained for 5 episodes in total, as opposed to 7 in the first case. Let's test it out."
   ]
  },
  {
   "cell_type": "code",
   "execution_count": 44,
   "metadata": {},
   "outputs": [],
   "source": [
    "env = frozen_lake_custom.FrozenLakeCustomEnv(desc=None,map_name='8x8', is_slippery=False, render_mode='human')\n",
    "\n",
    "for episodes in range(1):\n",
    "            initialInfo = env.reset()\n",
    "            state = initialInfo[0]\n",
    "            for timestamp in range(100):\n",
    "                action = DPAgent.policy(state)\n",
    "                newState, reward, terminated, truncated, info = env.step(action)\n",
    "                env.render()\n",
    "                state = newState\n",
    "                if terminated or truncated:\n",
    "                    break\n",
    "env.close()"
   ]
  }
 ],
 "metadata": {
  "kernelspec": {
   "display_name": "base",
   "language": "python",
   "name": "python3"
  },
  "language_info": {
   "codemirror_mode": {
    "name": "ipython",
    "version": 3
   },
   "file_extension": ".py",
   "mimetype": "text/x-python",
   "name": "python",
   "nbconvert_exporter": "python",
   "pygments_lexer": "ipython3",
   "version": "3.10.9"
  },
  "orig_nbformat": 4
 },
 "nbformat": 4,
 "nbformat_minor": 2
}
