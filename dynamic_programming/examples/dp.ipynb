{
 "cells": [
  {
   "cell_type": "code",
   "execution_count": 5,
   "metadata": {},
   "outputs": [
    {
     "ename": "ModuleNotFoundError",
     "evalue": "No module named '_environments'",
     "output_type": "error",
     "traceback": [
      "\u001b[0;31m---------------------------------------------------------------------------\u001b[0m",
      "\u001b[0;31mModuleNotFoundError\u001b[0m                       Traceback (most recent call last)",
      "\u001b[1;32m/home/thatblueboy/ML/RL/RL-Adventure/dynamic_programming/examples/dp.ipynb Cell 1\u001b[0m line \u001b[0;36m1\n\u001b[0;32m----> <a href='vscode-notebook-cell:/home/thatblueboy/ML/RL/RL-Adventure/dynamic_programming/examples/dp.ipynb#W0sZmlsZQ%3D%3D?line=0'>1</a>\u001b[0m \u001b[39mfrom\u001b[39;00m \u001b[39m_environments\u001b[39;00m\u001b[39m.\u001b[39;00m\u001b[39mfrozen_lake_custom\u001b[39;00m \u001b[39mimport\u001b[39;00m FrozenLakeCustomEnv\n\u001b[1;32m      <a href='vscode-notebook-cell:/home/thatblueboy/ML/RL/RL-Adventure/dynamic_programming/examples/dp.ipynb#W0sZmlsZQ%3D%3D?line=1'>2</a>\u001b[0m \u001b[39mfrom\u001b[39;00m \u001b[39msrc\u001b[39;00m\u001b[39m.\u001b[39;00m\u001b[39mDP\u001b[39;00m \u001b[39mimport\u001b[39;00m DPAgent\n",
      "\u001b[0;31mModuleNotFoundError\u001b[0m: No module named '_environments'"
     ]
    }
   ],
   "source": [
    "from _environments.frozen_lake_custom import FrozenLakeCustomEnv\n",
    "from src.DP import DPAgent"
   ]
  },
  {
   "cell_type": "code",
   "execution_count": 2,
   "metadata": {},
   "outputs": [
    {
     "ename": "NameError",
     "evalue": "name 'FrozenLakeCustomEnv' is not defined",
     "output_type": "error",
     "traceback": [
      "\u001b[0;31m---------------------------------------------------------------------------\u001b[0m",
      "\u001b[0;31mNameError\u001b[0m                                 Traceback (most recent call last)",
      "\u001b[1;32m/home/thatblueboy/ML/RL/RL-Adventure/dynamic_programming/examples/dp.ipynb Cell 2\u001b[0m line \u001b[0;36m1\n\u001b[0;32m----> <a href='vscode-notebook-cell:/home/thatblueboy/ML/RL/RL-Adventure/dynamic_programming/examples/dp.ipynb#W1sZmlsZQ%3D%3D?line=0'>1</a>\u001b[0m env \u001b[39m=\u001b[39m FrozenLakeCustomEnv(map_name\u001b[39m=\u001b[39m\u001b[39m'\u001b[39m\u001b[39m4x4\u001b[39m\u001b[39m'\u001b[39m, is_slippery\u001b[39m=\u001b[39m\u001b[39mFalse\u001b[39;00m, render_mode\u001b[39m=\u001b[39m\u001b[39m'\u001b[39m\u001b[39mhuman\u001b[39m\u001b[39m'\u001b[39m)\n\u001b[1;32m      <a href='vscode-notebook-cell:/home/thatblueboy/ML/RL/RL-Adventure/dynamic_programming/examples/dp.ipynb#W1sZmlsZQ%3D%3D?line=2'>3</a>\u001b[0m DPAgent \u001b[39m=\u001b[39m DP\u001b[39m.\u001b[39mDPAgent(env)\n\u001b[1;32m      <a href='vscode-notebook-cell:/home/thatblueboy/ML/RL/RL-Adventure/dynamic_programming/examples/dp.ipynb#W1sZmlsZQ%3D%3D?line=4'>5</a>\u001b[0m DPAgent\u001b[39m.\u001b[39mstochastic_start()\n",
      "\u001b[0;31mNameError\u001b[0m: name 'FrozenLakeCustomEnv' is not defined"
     ]
    }
   ],
   "source": [
    "env = FrozenLakeCustomEnv(map_name='4x4', is_slippery=False, render_mode='human')\n",
    "\n",
    "DPAgent = DP.DPAgent(env)\n",
    "\n",
    "DPAgent.stochastic_start()\n",
    "DPAgent.improve_policy()\n",
    "for i in range(2):\n",
    "    DPAgent.evaluate_policy()\n",
    "    DPAgent.improve_policy()"
   ]
  },
  {
   "cell_type": "code",
   "execution_count": 1,
   "metadata": {},
   "outputs": [
    {
     "ename": "NameError",
     "evalue": "name 'env' is not defined",
     "output_type": "error",
     "traceback": [
      "\u001b[0;31m---------------------------------------------------------------------------\u001b[0m",
      "\u001b[0;31mNameError\u001b[0m                                 Traceback (most recent call last)",
      "\u001b[1;32m/home/thatblueboy/ML/RL/RL-Adventure/dynamic_programming/examples/dp.ipynb Cell 3\u001b[0m line \u001b[0;36m2\n\u001b[1;32m      <a href='vscode-notebook-cell:/home/thatblueboy/ML/RL/RL-Adventure/dynamic_programming/examples/dp.ipynb#W2sZmlsZQ%3D%3D?line=0'>1</a>\u001b[0m \u001b[39mfor\u001b[39;00m episodes \u001b[39min\u001b[39;00m \u001b[39mrange\u001b[39m(\u001b[39m1\u001b[39m):\n\u001b[0;32m----> <a href='vscode-notebook-cell:/home/thatblueboy/ML/RL/RL-Adventure/dynamic_programming/examples/dp.ipynb#W2sZmlsZQ%3D%3D?line=1'>2</a>\u001b[0m             initialInfo \u001b[39m=\u001b[39m env\u001b[39m.\u001b[39mreset()\n\u001b[1;32m      <a href='vscode-notebook-cell:/home/thatblueboy/ML/RL/RL-Adventure/dynamic_programming/examples/dp.ipynb#W2sZmlsZQ%3D%3D?line=2'>3</a>\u001b[0m             state \u001b[39m=\u001b[39m initialInfo[\u001b[39m0\u001b[39m]\n\u001b[1;32m      <a href='vscode-notebook-cell:/home/thatblueboy/ML/RL/RL-Adventure/dynamic_programming/examples/dp.ipynb#W2sZmlsZQ%3D%3D?line=3'>4</a>\u001b[0m             \u001b[39mfor\u001b[39;00m timestamp \u001b[39min\u001b[39;00m \u001b[39mrange\u001b[39m(\u001b[39m10\u001b[39m):\n",
      "\u001b[0;31mNameError\u001b[0m: name 'env' is not defined"
     ]
    }
   ],
   "source": [
    "for episodes in range(1):\n",
    "            initialInfo = env.reset()\n",
    "            state = initialInfo[0]\n",
    "            for timestamp in range(10):\n",
    "                action = DPAgent.policy(state)\n",
    "                newState, reward, terminated, truncated, info = env.step(action)\n",
    "                env.render()\n",
    "                state = newState\n",
    "                if terminated or truncated:\n",
    "                    break\n",
    "env.close()"
   ]
  }
 ],
 "metadata": {
  "kernelspec": {
   "display_name": "base",
   "language": "python",
   "name": "python3"
  },
  "language_info": {
   "codemirror_mode": {
    "name": "ipython",
    "version": 3
   },
   "file_extension": ".py",
   "mimetype": "text/x-python",
   "name": "python",
   "nbconvert_exporter": "python",
   "pygments_lexer": "ipython3",
   "version": "3.10.9"
  },
  "orig_nbformat": 4
 },
 "nbformat": 4,
 "nbformat_minor": 2
}
